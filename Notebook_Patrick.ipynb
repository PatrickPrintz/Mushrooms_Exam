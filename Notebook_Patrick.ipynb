{
 "cells": [
  {
   "cell_type": "markdown",
   "metadata": {},
   "source": [
    "# Exam assignment\n",
    "## **Course:** Introduction to Data Handling, Exploration & Applied Machine Learning"
   ]
  },
  {
   "cell_type": "markdown",
   "metadata": {},
   "source": [
    "### Importing libraries, packages and dataset"
   ]
  },
  {
   "cell_type": "code",
   "execution_count": 124,
   "metadata": {},
   "outputs": [],
   "source": [
    "import pandas as pd\n",
    "import numpy as np\n",
    "import matplotlib.pyplot as plt\n",
    "import seaborn as sns\n",
    "from sklearn.decomposition import PCA"
   ]
  },
  {
   "cell_type": "markdown",
   "metadata": {},
   "source": [
    "#### Importing data"
   ]
  },
  {
   "cell_type": "code",
   "execution_count": 95,
   "metadata": {},
   "outputs": [],
   "source": [
    "data_raw = pd.read_csv(\"https://raw.githubusercontent.com/SeniorHreff/Mushrooms_Exam/main/mushrooms_dataset.csv\")"
   ]
  },
  {
   "cell_type": "code",
   "execution_count": 96,
   "metadata": {},
   "outputs": [
    {
     "name": "stdout",
     "output_type": "stream",
     "text": [
      "<class 'pandas.core.frame.DataFrame'>\n",
      "RangeIndex: 8124 entries, 0 to 8123\n",
      "Data columns (total 23 columns):\n",
      " #   Column                    Non-Null Count  Dtype \n",
      "---  ------                    --------------  ----- \n",
      " 0   class                     8124 non-null   object\n",
      " 1   cap-shape                 8124 non-null   object\n",
      " 2   cap-surface               8124 non-null   object\n",
      " 3   cap-color                 8124 non-null   object\n",
      " 4   bruises                   8124 non-null   object\n",
      " 5   odor                      8124 non-null   object\n",
      " 6   gill-attachment           8124 non-null   object\n",
      " 7   gill-spacing              8124 non-null   object\n",
      " 8   gill-size                 8124 non-null   object\n",
      " 9   gill-color                8124 non-null   object\n",
      " 10  stalk-shape               8124 non-null   object\n",
      " 11  stalk-root                8124 non-null   object\n",
      " 12  stalk-surface-above-ring  8124 non-null   object\n",
      " 13  stalk-surface-below-ring  8124 non-null   object\n",
      " 14  stalk-color-above-ring    8124 non-null   object\n",
      " 15  stalk-color-below-ring    8124 non-null   object\n",
      " 16  veil-type                 8124 non-null   object\n",
      " 17  veil-color                8124 non-null   object\n",
      " 18  ring-number               8124 non-null   object\n",
      " 19  ring-type                 8124 non-null   object\n",
      " 20  spore-print-color         8124 non-null   object\n",
      " 21  population                8124 non-null   object\n",
      " 22  habitat                   8124 non-null   object\n",
      "dtypes: object(23)\n",
      "memory usage: 1.4+ MB\n"
     ]
    }
   ],
   "source": [
    "data_raw.info()"
   ]
  },
  {
   "cell_type": "code",
   "execution_count": 97,
   "metadata": {},
   "outputs": [
    {
     "data": {
      "text/plain": [
       "Index(['class', 'cap-shape', 'cap-surface', 'cap-color', 'bruises', 'odor',\n",
       "       'gill-attachment', 'gill-spacing', 'gill-size', 'gill-color',\n",
       "       'stalk-shape', 'stalk-root', 'stalk-surface-above-ring',\n",
       "       'stalk-surface-below-ring', 'stalk-color-above-ring',\n",
       "       'stalk-color-below-ring', 'veil-type', 'veil-color', 'ring-number',\n",
       "       'ring-type', 'spore-print-color', 'population', 'habitat'],\n",
       "      dtype='object')"
      ]
     },
     "execution_count": 97,
     "metadata": {},
     "output_type": "execute_result"
    }
   ],
   "source": [
    "data_raw.columns"
   ]
  },
  {
   "cell_type": "code",
   "execution_count": 98,
   "metadata": {},
   "outputs": [],
   "source": [
    "# Her defineres alle de sammenhænge der er mellem det 'rå' dataset med enkelte bogstaver og hvad de betyder\n",
    "poisonous_mapping = {'e': 'eadible', 'p': 'poisonous'}\n",
    "cap_shape_mapping = {'b': 'bell', 'c': 'conical', 'x': 'convex', 'f': 'flat', 'k': 'knobbed', 's': 'sunken'}\n",
    "cap_surface_mapping = {'f': 'fibrous', 'g': 'grooves', 'y': 'scaly', 's': 'smooth'}\n",
    "cap_color_mapping = {'n': 'brown', 'b': 'buff', 'c': 'cinnamon', 'g': 'gray', 'r': 'green', 'p': 'pink', 'u': 'purple', 'e': 'red', 'w': 'white', 'y': 'yellow'}\n",
    "bruises_mapping = {'t': True, 'f': False}\n",
    "odor_mapping = {'a': 'almond', 'l': 'anise', 'c': 'creosote', 'y': 'fishy', 'f': 'foul', 'm': 'musty', 'n': 'none', 'p': 'pungent', 's': 'spicy'}\n",
    "gill_attachment_mapping = {'a': 'attached', 'd': 'descending', 'f': 'free', 'n': 'notched'}\n",
    "gill_spacing_mapping = {'c': 'close', 'w': 'crowded', 'd': 'distant'}\n",
    "gill_size_mapping = {'b': 'broad', 'n': 'narrow'}\n",
    "gill_color_mapping = {'k': 'black', 'n': 'brown', 'b': 'buff', 'h': 'chocolate', 'g': 'gray', 'r': 'green', 'o': 'orange', 'p': 'pink', 'u': 'purple', 'e': 'red', 'w': 'white', 'y': 'yellow'}\n",
    "stalk_shape_mapping = {'e': 'enlarging', 't': 'tapering'}\n",
    "stalk_root_mapping = {'b': 'bulbous', 'c': 'club', 'u': 'cup', 'e': 'equal', 'z': 'rhizomorphs', 'r': 'rooted', '?': 'missing'}\n",
    "stalk_surface_above_ring_mapping = {'f': 'fibrous', 'y': 'scaly', 'k': 'silky', 's': 'smooth'}\n",
    "stalk_surface_below_ring_mapping = {'f': 'fibrous', 'y': 'scaly', 'k': 'silky', 's': 'smooth'}\n",
    "stalk_color_above_ring_mapping = {'n': 'brown', 'b': 'buff', 'c': 'cinnamon', 'g': 'gray', 'o': 'orange', 'p': 'pink', 'e': 'red', 'w': 'white', 'y': 'yellow'}\n",
    "stalk_color_below_ring_mapping = {'n': 'brown', 'b': 'buff', 'c': 'cinnamon', 'g': 'gray', 'o': 'orange', 'p': 'pink', 'e': 'red', 'w': 'white', 'y': 'yellow'}\n",
    "veil_type_mapping = {'p': 'partial', 'u': 'universal'}\n",
    "veil_color_mapping = {'n': 'brown', 'o': 'orange', 'w': 'white', 'y': 'yellow'}\n",
    "ring_number_mapping = {'n': 'none', 'o': 'one', 't': 'two'}\n",
    "ring_type_mapping = {'c': 'cobwebby', 'e': 'evanescent', 'f': 'flaring', 'l': 'large', 'n': 'none', 'p': 'pendant', 's': 'sheathing', 'z': 'zone'}\n",
    "spore_print_color_mapping = {'k': 'black', 'n': 'brown', 'b': 'buff', 'h': 'chocolate', 'r': 'green', 'o': 'orange', 'u': 'purple', 'w': 'white', 'y': 'yellow'}\n",
    "population_mapping = {'a': 'abundant', 'c': 'clustered', 'n': 'numerous', 's': 'scattered', 'v': 'several', 'y': 'solitary'}\n",
    "habitat_mapping = {'g': 'grasses', 'l': 'leaves', 'm': 'meadows', 'p': 'paths', 'u': 'urban', 'w': 'waste', 'd': 'woods'}\n",
    "\n",
    "# Her sammensættes de ovenstående sammenhænge med det 'rå' dataset og der dannes et nyt dataset kaldt 'new_data'\n",
    "# .map funktionen bruges til at mappe de forskellige værdier til de 'rå' enkeltbogstavs værdier\n",
    "\n",
    "\n",
    "new_data = pd.DataFrame() ## Tom DataFrame\n",
    "\n",
    "\n",
    "new_data['poisonous'] = data_raw['class'].map(poisonous_mapping)\n",
    "new_data['cap_shape'] = data_raw['cap-shape'].map(cap_shape_mapping)\n",
    "new_data['cap_surface'] = data_raw['cap-surface'].map(cap_surface_mapping)\n",
    "new_data['cap_color'] = data_raw['cap-color'].map(cap_color_mapping)\n",
    "new_data['bruises'] = data_raw['bruises'].map(bruises_mapping)\n",
    "new_data['odor'] = data_raw['odor'].map(odor_mapping)\n",
    "new_data['gill_attachment'] = data_raw['gill-attachment'].map(gill_attachment_mapping)\n",
    "new_data['gill_spacing'] = data_raw['gill-spacing'].map(gill_spacing_mapping)\n",
    "new_data['gill_size'] = data_raw['gill-size'].map(gill_size_mapping)\n",
    "new_data['gill_color'] = data_raw['gill-color'].map(gill_color_mapping)\n",
    "new_data['stalk_shape'] = data_raw['stalk-shape'].map(stalk_shape_mapping)\n",
    "new_data['stalk_root'] = data_raw['stalk-root'].map(stalk_root_mapping)\n",
    "new_data['stalk_surface_above_ring'] = data_raw['stalk-surface-above-ring'].map(stalk_surface_above_ring_mapping)\n",
    "new_data['stalk_surface_below_ring'] = data_raw['stalk-surface-below-ring'].map(stalk_surface_below_ring_mapping)\n",
    "new_data['stalk_color_above_ring'] = data_raw['stalk-color-above-ring'].map(stalk_color_above_ring_mapping)\n",
    "new_data['stalk_color_below_ring'] = data_raw['stalk-color-below-ring'].map(stalk_color_below_ring_mapping)\n",
    "new_data['veil_type'] = data_raw['veil-type'].map(veil_type_mapping)\n",
    "new_data['veil_color'] = data_raw['veil-color'].map(veil_color_mapping)\n",
    "new_data['ring_number'] = data_raw['ring-number'].map(ring_number_mapping)\n",
    "new_data['ring_type'] = data_raw['ring-type'].map(ring_type_mapping)\n",
    "new_data['spore_print_color'] = data_raw['spore-print-color'].map(spore_print_color_mapping)\n",
    "new_data['population'] = data_raw['population'].map(population_mapping)\n",
    "new_data['habitat'] = data_raw['habitat'].map(habitat_mapping)\n"
   ]
  },
  {
   "cell_type": "code",
   "execution_count": 106,
   "metadata": {},
   "outputs": [
    {
     "data": {
      "text/plain": [
       "117"
      ]
     },
     "execution_count": 106,
     "metadata": {},
     "output_type": "execute_result"
    }
   ],
   "source": [
    "uniquenumber = 0\n",
    "for i in range(1, len(new_data.columns)):\n",
    "    value = new_data.iloc[:,i].nunique()\n",
    "    uniquenumber += value\n",
    "\n",
    "uniquenumber"
   ]
  },
  {
   "cell_type": "code",
   "execution_count": 107,
   "metadata": {},
   "outputs": [],
   "source": [
    "features = new_data.drop('poisonous', axis=1)"
   ]
  },
  {
   "cell_type": "code",
   "execution_count": 108,
   "metadata": {},
   "outputs": [],
   "source": [
    "from sklearn.preprocessing import OneHotEncoder"
   ]
  },
  {
   "cell_type": "code",
   "execution_count": 113,
   "metadata": {},
   "outputs": [],
   "source": [
    "ohe = OneHotEncoder(sparse=False)"
   ]
  },
  {
   "cell_type": "code",
   "execution_count": 116,
   "metadata": {},
   "outputs": [
    {
     "name": "stderr",
     "output_type": "stream",
     "text": [
      "/Users/patrickprintz/anaconda3/envs/DataScience/lib/python3.11/site-packages/sklearn/preprocessing/_encoders.py:972: FutureWarning: `sparse` was renamed to `sparse_output` in version 1.2 and will be removed in 1.4. `sparse_output` is ignored unless you leave `sparse` to its default value.\n",
      "  warnings.warn(\n"
     ]
    }
   ],
   "source": [
    "matrix = ohe.fit_transform(features)"
   ]
  }
 ],
 "metadata": {
  "kernelspec": {
   "display_name": "DataScience",
   "language": "python",
   "name": "python3"
  },
  "language_info": {
   "codemirror_mode": {
    "name": "ipython",
    "version": 3
   },
   "file_extension": ".py",
   "mimetype": "text/x-python",
   "name": "python",
   "nbconvert_exporter": "python",
   "pygments_lexer": "ipython3",
   "version": "3.11.5"
  },
  "orig_nbformat": 4
 },
 "nbformat": 4,
 "nbformat_minor": 2
}
